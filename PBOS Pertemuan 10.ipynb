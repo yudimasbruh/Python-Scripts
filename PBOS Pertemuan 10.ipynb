{
 "cells": [
  {
   "cell_type": "code",
   "execution_count": 1,
   "metadata": {},
   "outputs": [
    {
     "name": "stdout",
     "output_type": "stream",
     "text": [
      "mangga\n"
     ]
    }
   ],
   "source": [
    "# Kita punya list nama-nama buah\n",
    "buah = [\"apel\", \"anggur\", \"mangga\", \"jeruk\"]\n",
    "\n",
    "# misalnya kita ingin mengambil mangga\n",
    "# maka indeknya adalah 2\n",
    "print (buah[2])"
   ]
  },
  {
   "cell_type": "code",
   "execution_count": 2,
   "metadata": {},
   "outputs": [
    {
     "name": "stdout",
     "output_type": "stream",
     "text": [
      "Isi my_friends indeks ke-2 adalah : Vanessa\n",
      "Semua teman : ada 5 orang \n",
      "Anggun\n",
      "Diana\n",
      "Vanessa\n",
      "Angel\n",
      "Lina\n"
     ]
    }
   ],
   "source": [
    "# buat list untuk menapung nama-nama teman\n",
    "my_friends = [\"Anggun\", \"Diana\", \"Vanessa\", \"Angel\", \"Lina\"]\n",
    "# tampilkan isi list my_friends dengan nomer indeks 3\n",
    "print(\"Isi my_friends indeks ke-2 adalah : {}\".format(my_friends[2]))\n",
    "# tampilkan semua daftar teman\n",
    "print(\"Semua teman : ada {} orang \".format(len(my_friends)))\n",
    "for friend in my_friends:\n",
    "    print(friend)"
   ]
  },
  {
   "cell_type": "code",
   "execution_count": 3,
   "metadata": {},
   "outputs": [
    {
     "name": "stdout",
     "output_type": "stream",
     "text": [
      "Inputkan hobi yang ke-0: Berenang\n",
      "Mau isi lagi? (y/t): y\n",
      "Inputkan hobi yang ke-1: Menonton\n",
      "Mau isi lagi? (y/t): y\n",
      "Inputkan hobi yang ke-2: Menggambar\n",
      "Mau isi lagi? (y/t): t\n",
      "==========\n",
      "Kamu memiliki 3 hobi\n",
      "- Berenang\n",
      "- Menonton\n",
      "- Menggambar\n"
     ]
    }
   ],
   "source": [
    "hobi = []\n",
    "stop = False \n",
    "i = 0\n",
    "\n",
    "while (not stop): \n",
    "    hobi_baru = input(\"Inputkan hobi yang ke-{}: \".format(i))\n",
    "    hobi.append(hobi_baru)\n",
    "    i += 1\n",
    "    tanya = input(\"Mau isi lagi? (y/t): \")\n",
    "    if(tanya == \"t\"):\n",
    "        stop = True\n",
    "print (\"=\" * 10)\n",
    "print (\"Kamu memiliki {} hobi\".format(len(hobi)))\n",
    "for hb in hobi:\n",
    "    print (\"- {}\".format(hb))"
   ]
  },
  {
   "cell_type": "code",
   "execution_count": 4,
   "metadata": {},
   "outputs": [
    {
     "name": "stdout",
     "output_type": "stream",
     "text": [
      "Belajar Python\n",
      "Belajar Vb.Net\n",
      "Belajar Java\n",
      "Belajar C#\n",
      "Belajar PHP\n",
      "Belajar Python\n",
      "Belajar Vb.Net\n",
      "Belajar C#\n",
      "Belajar PHP\n"
     ]
    }
   ],
   "source": [
    "todo_list = [\n",
    "    \"Belajar Python\",\n",
    "    \"Belajar Vb.Net\",\n",
    "    \"Belajar Java\",\n",
    "    \"Belajar C#\",\n",
    "    \"Belajar PHP\"\n",
    "]\n",
    "for isi in todo_list:\n",
    "    print (isi)\n",
    "del todo_list[2]\n",
    "for isi in todo_list:\n",
    "    print (isi)"
   ]
  },
  {
   "cell_type": "code",
   "execution_count": 5,
   "metadata": {},
   "outputs": [
    {
     "name": "stdout",
     "output_type": "stream",
     "text": [
      "['a', 'b', 'c', 'e', 'f', 'g']\n"
     ]
    }
   ],
   "source": [
    "a = [\"a\", \"b\", \"c\", \"d\", \"e\", \"f\", \"g\"]\n",
    "a.remove(\"d\")\n",
    "\n",
    "print(a)"
   ]
  },
  {
   "cell_type": "code",
   "execution_count": 6,
   "metadata": {},
   "outputs": [
    {
     "name": "stdout",
     "output_type": "stream",
     "text": [
      "['c', 'd', 'e', 'f']\n"
     ]
    }
   ],
   "source": [
    "a = [\"a\", \"b\", \"c\", \"d\", \"e\", \"f\", \"g\"]\n",
    "print(a[2:6])"
   ]
  },
  {
   "cell_type": "code",
   "execution_count": 8,
   "metadata": {},
   "outputs": [
    {
     "name": "stdout",
     "output_type": "stream",
     "text": [
      "['C++', 'C#', 'Python', 'Java', 'PHP']\n"
     ]
    }
   ],
   "source": [
    "list_bahasa =  [\n",
    "    \"C++\",\n",
    "    \"C#\"\n",
    "]\n",
    "\n",
    "list_favorit = [\n",
    "    \"Python\",\n",
    "    \"Java\",\n",
    "    \"PHP\"\n",
    "]\n",
    "\n",
    "semua_list = list_bahasa + list_favorit\n",
    "\n",
    "print(semua_list)"
   ]
  },
  {
   "cell_type": "code",
   "execution_count": 9,
   "metadata": {},
   "outputs": [
    {
     "name": "stdout",
     "output_type": "stream",
     "text": [
      "['Makan', 'Tidur', 'Makan', 'Tidur', 'Makan', 'Tidur', 'Makan', 'Tidur', 'Makan', 'Tidur']\n"
     ]
    }
   ],
   "source": [
    "list_favorit = [\n",
    "    \"Makan\",\n",
    "    \"Tidur\"\n",
    "]\n",
    "\n",
    "ulangi = 5\n",
    "\n",
    "aktivitas_sekarang = list_favorit * ulangi\n",
    "\n",
    "print(aktivitas_sekarang)"
   ]
  },
  {
   "cell_type": "code",
   "execution_count": 10,
   "metadata": {},
   "outputs": [
    {
     "name": "stdout",
     "output_type": "stream",
     "text": [
      "Kopi\n",
      "Susu\n",
      "Teh\n",
      "Jus Apel\n",
      "Jus Melon\n",
      "Jus Jeruk\n",
      "Es Kopi\n",
      "Es Campur\n",
      "Es Teler\n"
     ]
    }
   ],
   "source": [
    "list_minuman = [\n",
    "    [\"Kopi\",\"Susu\",\"Teh\"],\n",
    "    [\"Jus Apel\",\"Jus Melon\",\"Jus Jeruk\"],\n",
    "    [\"Es Kopi\",\"Es Campur\",\"Es Teler\"]\n",
    "]\n",
    "for menu in list_minuman:\n",
    "    for minuman in menu:\n",
    "        print (minuman)"
   ]
  },
  {
   "cell_type": "code",
   "execution_count": null,
   "metadata": {},
   "outputs": [],
   "source": []
  }
 ],
 "metadata": {
  "kernelspec": {
   "display_name": "Python 3",
   "language": "python",
   "name": "python3"
  },
  "language_info": {
   "codemirror_mode": {
    "name": "ipython",
    "version": 3
   },
   "file_extension": ".py",
   "mimetype": "text/x-python",
   "name": "python",
   "nbconvert_exporter": "python",
   "pygments_lexer": "ipython3",
   "version": "3.8.5"
  }
 },
 "nbformat": 4,
 "nbformat_minor": 4
}
