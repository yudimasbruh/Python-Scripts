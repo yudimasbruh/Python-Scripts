{
 "cells": [
  {
   "cell_type": "code",
   "execution_count": 1,
   "metadata": {},
   "outputs": [
    {
     "name": "stdout",
     "output_type": "stream",
     "text": [
      "Hello ini fungsi\n"
     ]
    }
   ],
   "source": [
    "def nama_fungsi():\n",
    "    print (\"Hello ini fungsi\")\n",
    "nama_fungsi()"
   ]
  },
  {
   "cell_type": "code",
   "execution_count": 2,
   "metadata": {},
   "outputs": [
    {
     "name": "stdout",
     "output_type": "stream",
     "text": [
      "Hello World, Selamat Belajar  Fungsi Pada Python\n"
     ]
    }
   ],
   "source": [
    "def hello():\n",
    "    print (\"Hello World, Selamat Belajar  Fungsi Pada Python\")\n",
    "hello()"
   ]
  },
  {
   "cell_type": "code",
   "execution_count": 3,
   "metadata": {},
   "outputs": [
    {
     "name": "stdout",
     "output_type": "stream",
     "text": [
      "Hello World, Selamat Belajar  Fungsi Pada Python\n",
      "Hello World, Selamat Belajar  Fungsi Pada Python\n",
      "Hello World, Selamat Belajar  Fungsi Pada Python\n"
     ]
    }
   ],
   "source": [
    "def hello():\n",
    "    print (\"Hello World, Selamat Belajar  Fungsi Pada Python\")\n",
    "hello()\n",
    "hello()\n",
    "hello()"
   ]
  },
  {
   "cell_type": "code",
   "execution_count": 4,
   "metadata": {},
   "outputs": [
    {
     "name": "stdout",
     "output_type": "stream",
     "text": [
      "Selamat siang\n"
     ]
    }
   ],
   "source": [
    "def salam(ucapan):\n",
    "    print(ucapan)\n",
    "    \n",
    "salam(\"Selamat siang\")"
   ]
  },
  {
   "cell_type": "code",
   "execution_count": 5,
   "metadata": {},
   "outputs": [
    {
     "name": "stdout",
     "output_type": "stream",
     "text": [
      "Luas segitiga: 12.000000\n"
     ]
    }
   ],
   "source": [
    "def luas_segitiga(alas,tinggi):\n",
    "    luas = (alas * tinggi)/2\n",
    "    print(\"Luas segitiga: %f\" % luas);\n",
    "    \n",
    "luas_segitiga(4,6)"
   ]
  },
  {
   "cell_type": "code",
   "execution_count": 6,
   "metadata": {},
   "outputs": [
    {
     "name": "stdout",
     "output_type": "stream",
     "text": [
      "Luas persegi: 36\n"
     ]
    }
   ],
   "source": [
    "def luas_persegi(sisi):\n",
    "    luas = sisi * sisi \n",
    "    return luas \n",
    "print(\"Luas persegi: %d\" % luas_persegi(6))"
   ]
  },
  {
   "cell_type": "code",
   "execution_count": 7,
   "metadata": {},
   "outputs": [
    {
     "name": "stdout",
     "output_type": "stream",
     "text": [
      "Luas persegi: 36\n",
      "Volume persegi: 216\n"
     ]
    }
   ],
   "source": [
    "def luas_persegi(sisi):\n",
    "    luas = sisi * sisi\n",
    "    return luas\n",
    "\n",
    "def volume_persegi(sisi):\n",
    "    volume = luas_persegi(sisi) * sisi\n",
    "    return volume\n",
    "\n",
    "print(\"Luas persegi: %d\" % luas_persegi(6))\n",
    "print(\"Volume persegi: %d\" % volume_persegi(6))"
   ]
  },
  {
   "cell_type": "code",
   "execution_count": 12,
   "metadata": {},
   "outputs": [
    {
     "name": "stdout",
     "output_type": "stream",
     "text": [
      "Nama: Pemrograman Berbasis Open Source\n",
      "sks: 3\n",
      "Nama: python\n",
      "sks: 3\n"
     ]
    }
   ],
   "source": [
    "nama = \"Pemrograman Berbasis Open Source\"\n",
    "sks = \"3\"\n",
    "\n",
    "def matakuliah():\n",
    "    nama = \"python\"\n",
    "    sks = \"3\"\n",
    "    print (\"Nama: %s\" %nama)\n",
    "    print (\"sks: %s\" %sks)\n",
    "\n",
    "print (\"Nama: %s\" %nama)\n",
    "print (\"sks: %s\" %sks)\n",
    "\n",
    "matakuliah()"
   ]
  },
  {
   "cell_type": "code",
   "execution_count": null,
   "metadata": {},
   "outputs": [],
   "source": []
  }
 ],
 "metadata": {
  "kernelspec": {
   "display_name": "Python 3",
   "language": "python",
   "name": "python3"
  },
  "language_info": {
   "codemirror_mode": {
    "name": "ipython",
    "version": 3
   },
   "file_extension": ".py",
   "mimetype": "text/x-python",
   "name": "python",
   "nbconvert_exporter": "python",
   "pygments_lexer": "ipython3",
   "version": "3.8.5"
  }
 },
 "nbformat": 4,
 "nbformat_minor": 4
}
