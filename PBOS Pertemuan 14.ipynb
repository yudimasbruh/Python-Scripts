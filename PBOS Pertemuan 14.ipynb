{
 "cells": [
  {
   "cell_type": "code",
   "execution_count": 9,
   "metadata": {},
   "outputs": [
    {
     "name": "stdout",
     "output_type": "stream",
     "text": [
      "Lina\n",
      "zeus 50\n"
     ]
    }
   ],
   "source": [
    "class Hero:\n",
    "    def __init__(self,name,health):\n",
    "        self.name = name\n",
    "        self.health = health\n",
    "        \n",
    "class Hero_Intelligence(Hero):\n",
    "    pass\n",
    "\n",
    "lina = Hero(\"Lina\",100)\n",
    "zeus = Hero_Intelligence(\"zeus\",50)\n",
    "\n",
    "print(lina.name)\n",
    "print(zeus.name,zeus.health)"
   ]
  },
  {
   "cell_type": "code",
   "execution_count": 10,
   "metadata": {},
   "outputs": [
    {
     "name": "stdout",
     "output_type": "stream",
     "text": [
      "Marge Simpson\n",
      "Homer Simpson, 1007\n"
     ]
    }
   ],
   "source": [
    "class Person:\n",
    "    def __init__(self,first,last):\n",
    "        self.firstname = first\n",
    "        self.lastname = last\n",
    "        \n",
    "    def Name(self):\n",
    "        return self.firstname + \" \" + self.lastname\n",
    "    \n",
    "class Employee(Person):\n",
    "    def __init__ (self,first,last,staffnum):\n",
    "        Person.__init__(self,first,last)\n",
    "        self.staffnumber = staffnum\n",
    "        \n",
    "    def GetEmployee(self):\n",
    "        return self.Name() + \", \" + self.staffnumber\n",
    "    \n",
    "x = Person(\"Marge\", \"Simpson\")\n",
    "y = Employee(\"Homer\", \"Simpson\", \"1007\")\n",
    "\n",
    "print(x.Name())\n",
    "print(y.GetEmployee())"
   ]
  },
  {
   "cell_type": "code",
   "execution_count": 11,
   "metadata": {},
   "outputs": [
    {
     "name": "stdout",
     "output_type": "stream",
     "text": [
      "driving. maxspeed 200\n",
      "driving. maxspeed 320\n"
     ]
    }
   ],
   "source": [
    "class Car:\n",
    "    __maxspeed = 0\n",
    "    __name = \"\"\n",
    "    \n",
    "    def __init__(self):\n",
    "        self.__maxspeed = 200\n",
    "        self.__name = \"Supercar\"\n",
    "        \n",
    "    def drive(self):\n",
    "        print('driving. maxspeed ' + str(self.__maxspeed))\n",
    "        \n",
    "    def setMaxSpeed(self,speed):\n",
    "        self.__maxspeed = speed\n",
    "        \n",
    "redcar = Car()\n",
    "redcar.drive()\n",
    "redcar.setMaxSpeed(320)\n",
    "redcar.drive()"
   ]
  },
  {
   "cell_type": "code",
   "execution_count": 12,
   "metadata": {},
   "outputs": [
    {
     "name": "stdout",
     "output_type": "stream",
     "text": [
      "Kerangka hiu terbuat dari tulang rawan.\n",
      "Kerangka ikan badut terbuat dari tulang.\n",
      "Hiu sedang berenang.\n",
      "Hiu tidak bisa berenang mundur , tetapi bisa tenggelam ke belakang.\n",
      "Kerangka hiu terbuat dari tulang rawan.\n",
      "Ikan badut sedang berenang.\n",
      "Ikan badut bisa berenang mundur.\n",
      "Kerangka ikan badut terbuat dari tulang.\n"
     ]
    }
   ],
   "source": [
    "class Shark():\n",
    "    def swim(self):\n",
    "        print(\"Hiu sedang berenang.\")\n",
    "        \n",
    "    def swim_backwards(self):\n",
    "        print(\"Hiu tidak bisa berenang mundur , tetapi bisa tenggelam ke belakang.\")\n",
    "        \n",
    "    def skeleton(self):\n",
    "        print(\"Kerangka hiu terbuat dari tulang rawan.\")\n",
    "        \n",
    "class Clownfish():\n",
    "    def swim(self):\n",
    "        print(\"Ikan badut sedang berenang.\")\n",
    "        \n",
    "    def swim_backwards(self):\n",
    "        print(\"Ikan badut bisa berenang mundur.\")\n",
    "        \n",
    "    def skeleton(self):\n",
    "        print(\"Kerangka ikan badut terbuat dari tulang.\")\n",
    "        \n",
    "sammy = Shark()\n",
    "sammy.skeleton()\n",
    "\n",
    "casey = Clownfish()\n",
    "casey.skeleton()\n",
    "\n",
    "for fish in (sammy, casey):\n",
    "    fish.swim()\n",
    "    fish.swim_backwards()\n",
    "    fish.skeleton()\n"
   ]
  },
  {
   "cell_type": "markdown",
   "metadata": {},
   "source": []
  }
 ],
 "metadata": {
  "kernelspec": {
   "display_name": "Python 3",
   "language": "python",
   "name": "python3"
  },
  "language_info": {
   "codemirror_mode": {
    "name": "ipython",
    "version": 3
   },
   "file_extension": ".py",
   "mimetype": "text/x-python",
   "name": "python",
   "nbconvert_exporter": "python",
   "pygments_lexer": "ipython3",
   "version": "3.8.5"
  }
 },
 "nbformat": 4,
 "nbformat_minor": 4
}
