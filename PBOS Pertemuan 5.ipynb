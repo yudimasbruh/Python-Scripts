{
 "cells": [
  {
   "cell_type": "code",
   "execution_count": 11,
   "metadata": {},
   "outputs": [
    {
     "name": "stdout",
     "output_type": "stream",
     "text": [
      "Inputkan nilaimu:78\n",
      "Grade:B\n"
     ]
    }
   ],
   "source": [
    "nilai = input (\"Inputkan nilaimu:\")\n",
    "if int (nilai) >=80:\n",
    " grade = \"A\"\n",
    "elif int (nilai) >=70:\n",
    " grade = \"B\"\n",
    "elif int (nilai) >=60:\n",
    " grade = \"C\"\n",
    "elif int (nilai) >=50:\n",
    " grade = \"D\"\n",
    "else:\n",
    " grade = \"E\"\n",
    "print(\"Grade:%s\" % grade)"
   ]
  },
  {
   "cell_type": "code",
   "execution_count": 13,
   "metadata": {},
   "outputs": [
    {
     "name": "stdout",
     "output_type": "stream",
     "text": [
      "Masukan panjang sisi A : 3\n",
      "Masukan panjang sisi B : 4\n",
      "Masukan panjang sisi C : 5\n",
      "Segitiga dengan sisi A = 3, B = 4 dan C = 5 adalah tidak sama sisi\n"
     ]
    }
   ],
   "source": [
    "# input\n",
    "sisi_a = int(input(\"Masukan panjang sisi A : \"))\n",
    "sisi_b = int(input(\"Masukan panjang sisi B : \"))\n",
    "sisi_c = int(input(\"Masukan panjang sisi C : \"))\n",
    "hasil = \"\"\n",
    "\n",
    "# proses\n",
    "if sisi_a == sisi_b:\n",
    "    hasil = \"sama sisi\"\n",
    "elif sisi_a == sisi_c:\n",
    "    hasil == \"sama sisi\"\n",
    "elif sisi_b == sisi_c:\n",
    "    hasil == \"sama sisi\"\n",
    "else:\n",
    "    hasil = \"tidak sama sisi\"\n",
    "    \n",
    "# output\n",
    "\n",
    "print(\"Segitiga dengan sisi A = %d, B = %d dan C = %d adalah %s\"%(sisi_a, sisi_b, sisi_c, hasil))"
   ]
  },
  {
   "cell_type": "code",
   "execution_count": 16,
   "metadata": {},
   "outputs": [
    {
     "name": "stdout",
     "output_type": "stream",
     "text": [
      "x:3\n",
      "y:6\n",
      "Koordinat berada di kuadran 1\n"
     ]
    }
   ],
   "source": [
    "class kuadran:\n",
    "    x=0.0\n",
    "    y=0.0\n",
    "    \n",
    "a = kuadran()\n",
    "ux = float(input(\"x:\"))\n",
    "uy = float(input(\"y:\"))\n",
    "x = ux\n",
    "y = uy\n",
    "\n",
    "if x > 0:\n",
    "    if y > 0:\n",
    "        print(\"Koordinat berada di kuadran 1\")\n",
    "    else:\n",
    "        print(\"Koordinat berada di kuadran 4\")\n",
    "else:\n",
    "        if y > 0:\n",
    "            print(\"Koordinat berada di kuadran 2\")\n",
    "        else:\n",
    "            print(\"Koordinat berada di kuadran 3\")"
   ]
  },
  {
   "cell_type": "code",
   "execution_count": 17,
   "metadata": {},
   "outputs": [
    {
     "name": "stdout",
     "output_type": "stream",
     "text": [
      "Masukkan Nama Pembeli: Yudi Muttaqin\n",
      "Nama Pembeli : Yudi Muttaqin\n",
      "\n",
      "Menu Makanan\n",
      "1. Pecel Ayam - Rp12000\n",
      "2. Pecel Lele - Rp10000\n",
      "Masukan Pilihan: 2\n",
      "Berapa Porsi: 1\n",
      "1  pecal lele = Rp 10000\n",
      "\n",
      "Menu Minuman\n",
      "1. Es teh - Rp2000\n",
      "2. Es jeruk - Rp3500\n",
      "3. Air putih Es - Rp1000\n",
      "Masukan Pilihan: 3\n",
      "Berapa Gelas: 1\n",
      "1  Gelas Air putih es = Rp 1000\n",
      "\n",
      "Total harus Dibayar: Rp 11000\n",
      "Uang Tunai Pembeli: Rp.15000\n",
      "Kembalian : 4000\n",
      "\n",
      "===========================\n",
      "======= S T R U K   B E L I =====\n",
      "===========================\n",
      " Nama         : Yudi Muttaqin\n",
      " Beli         : 1 pecal lele - 10000\n",
      "                1 Air putih es - 1000\n",
      " Tagihan      : Rp. 11000\n",
      " Uang         : Rp. 15000\n",
      " Kembalian    : Rp. 4000\n",
      "===========================\n",
      "===========================\n"
     ]
    }
   ],
   "source": [
    "pembeli = input(\"Masukkan Nama Pembeli: \")\n",
    "print (\"Nama Pembeli :\", pembeli) \n",
    "\n",
    "total1=0\n",
    "jenis1=\"\"\n",
    "porsi=0\n",
    "gelas=0\n",
    "\n",
    "def fungsimakanan():\n",
    "   global total1\n",
    "   global porsi\n",
    "   global jenis1\n",
    "   print (\"\\nMenu Makanan\")\n",
    "   print(\"1. Pecel Ayam - Rp12000\")\n",
    "   print(\"2. Pecel Lele - Rp10000\")\n",
    "   nomor=int(input(\"Masukan Pilihan: \"))\n",
    "   porsi= int(input(\"Berapa Porsi: \"))\n",
    "   \n",
    "   if nomor==1:\n",
    "       total1=porsi*12000\n",
    "       print (porsi,\"pecal ayam = Rp\", total1)\n",
    "       jenis1=(\"pecal ayam\")\n",
    "   elif nomor==2:\n",
    "       total1=porsi*10000\n",
    "       print (porsi,\" pecal lele = Rp\", total1)\n",
    "       jenis1=(\"pecal lele\")\n",
    "   else:\n",
    "      print(\"Pilihan tidak ada, silahkan masukan lagi!!\")\n",
    "      fungsimakanan()\n",
    "\n",
    "\n",
    "fungsimakanan()\n",
    "\n",
    "total2=0\n",
    "jenis2=\"\"\n",
    "\n",
    "def fungsiminuman():\n",
    "   global total2\n",
    "   global jenis2\n",
    "   global gelas\n",
    "   print(\"\\nMenu Minuman\")\n",
    "   print(\"1. Es teh - Rp2000\")\n",
    "   print(\"2. Es jeruk - Rp3500\")\n",
    "   print(\"3. Air putih Es - Rp1000\")\n",
    "   nomor=int(input(\"Masukan Pilihan: \"))\n",
    "   gelas= int(input(\"Berapa Gelas: \"))\n",
    "\n",
    "   if nomor==1:\n",
    "       total2=gelas*2000\n",
    "       print (gelas,\" Es Teh = Rp\", total2)\n",
    "       jenis2=(\" Gelas Es Teh\")\n",
    "   elif nomor==2:\n",
    "       total2=gelas*3500\n",
    "       print (gelas, \" Gelas Es Jeruk = Rp\", total2)\n",
    "       jenis2=(\"Es Jeruk\")\n",
    "   elif nomor==3:\n",
    "       total2=gelas*1000\n",
    "       print (gelas, \" Gelas Air putih es = Rp\", total2)\n",
    "       jenis2=(\"Air putih es\")\n",
    "   else:\n",
    "      print(\"Pilihan tidak ada, silahkan masukan lagi!!\")\n",
    "      fungsiminuman()\n",
    "\n",
    "\n",
    "fungsiminuman()\n",
    "    \n",
    "totalsemua=0\n",
    "totalsemua=total1+total2\n",
    "print(\"\\nTotal harus Dibayar: Rp\",totalsemua)\n",
    "uang=int(input(\"Uang Tunai Pembeli: Rp.\"))\n",
    "kembalian=int(uang-totalsemua)\n",
    "print(\"Kembalian :\",kembalian)\n",
    "\n",
    "print(\"\\n===========================\")\n",
    "print(\"======= S T R U K   B E L I =====\")\n",
    "print(\"===========================\")\n",
    "print (\" Nama         :\",pembeli)\n",
    "print (\" Beli         :\",porsi,jenis1,\"-\", total1)\n",
    "print (\"               \",gelas,jenis2,\"-\", total2)\n",
    "print (\" Tagihan      : Rp.\",totalsemua)\n",
    "print (\" Uang         : Rp.\",uang)\n",
    "print (\" Kembalian    : Rp.\",kembalian)\n",
    "print(\"===========================\")\n",
    "print(\"===========================\")"
   ]
  },
  {
   "cell_type": "code",
   "execution_count": null,
   "metadata": {},
   "outputs": [],
   "source": []
  }
 ],
 "metadata": {
  "kernelspec": {
   "display_name": "Python 3",
   "language": "python",
   "name": "python3"
  },
  "language_info": {
   "codemirror_mode": {
    "name": "ipython",
    "version": 3
   },
   "file_extension": ".py",
   "mimetype": "text/x-python",
   "name": "python",
   "nbconvert_exporter": "python",
   "pygments_lexer": "ipython3",
   "version": "3.8.5"
  }
 },
 "nbformat": 4,
 "nbformat_minor": 4
}
