{
 "cells": [
  {
   "cell_type": "code",
   "execution_count": 1,
   "metadata": {},
   "outputs": [
    {
     "name": "stdout",
     "output_type": "stream",
     "text": [
      "Perulangan ke-0\n",
      "Perulangan ke-1\n",
      "Perulangan ke-2\n",
      "Perulangan ke-3\n",
      "Perulangan ke-4\n",
      "Perulangan ke-5\n",
      "Perulangan ke-6\n",
      "Perulangan ke-7\n",
      "Perulangan ke-8\n",
      "Perulangan ke-9\n"
     ]
    }
   ],
   "source": [
    "ulang = 10\n",
    "\n",
    "for i in range(ulang):\n",
    "    print(\"Perulangan ke-\"+str(i))"
   ]
  },
  {
   "cell_type": "code",
   "execution_count": 2,
   "metadata": {},
   "outputs": [
    {
     "name": "stdout",
     "output_type": "stream",
     "text": [
      "kopi\n",
      "jus\n",
      "teh\n",
      "air putih\n",
      "susu\n"
     ]
    }
   ],
   "source": [
    "item = ['kopi','jus','teh','air putih','susu']\n",
    "for isi in item :\n",
    "    print(isi)"
   ]
  },
  {
   "cell_type": "code",
   "execution_count": 1,
   "metadata": {},
   "outputs": [
    {
     "name": "stdout",
     "output_type": "stream",
     "text": [
      "1\n",
      "2\n",
      "3\n",
      "4\n",
      "5\n",
      "6\n",
      "7\n",
      "8\n",
      "9\n",
      "10\n",
      "11\n",
      "12\n",
      "13\n",
      "14\n",
      "15\n",
      "16\n",
      "17\n",
      "18\n",
      "19\n",
      "20\n",
      "21\n",
      "22\n",
      "23\n",
      "24\n",
      "25\n",
      "26\n",
      "27\n",
      "28\n",
      "29\n",
      "30\n",
      "Total Perulangan: 30\n"
     ]
    }
   ],
   "source": [
    "ulang = 30\n",
    "hitung = 0\n",
    "while(hitung < ulang):\n",
    "    hitung += 1\n",
    "    print(hitung)\n",
    "print(\"Total Perulangan: \" + str(hitung))"
   ]
  },
  {
   "cell_type": "code",
   "execution_count": 4,
   "metadata": {},
   "outputs": [
    {
     "name": "stdout",
     "output_type": "stream",
     "text": [
      "Ulang lagi tidak?ya\n",
      "Ulang lagi tidak?ya\n",
      "Ulang lagi tidak?ya\n",
      "Ulang lagi tidak?ya\n",
      "Ulang lagi tidak?tidak\n",
      "Total Perulangan : 5\n"
     ]
    }
   ],
   "source": [
    "jawab = 'ya'\n",
    "hitung = 0\n",
    "\n",
    "while(jawab == 'ya'):\n",
    "    hitung += 1\n",
    "    jawab = input(\"Ulang lagi tidak?\")\n",
    "    \n",
    "print (\"Total Perulangan : \" + str(hitung))"
   ]
  },
  {
   "cell_type": "code",
   "execution_count": 5,
   "metadata": {},
   "outputs": [
    {
     "name": "stdout",
     "output_type": "stream",
     "text": [
      "Ulang lagi tidak?ya\n",
      "Ulang lagi tidak?ya\n",
      "Ulang lagi tidak?ya\n",
      "Ulang lagi tidak?tidak\n",
      "total perulangan : 4\n"
     ]
    }
   ],
   "source": [
    "jawab = 'ya'\n",
    "hitung = 0\n",
    "\n",
    "while(True):\n",
    "    hitung += 1\n",
    "    jawab = input(\"Ulang lagi tidak?\")\n",
    "    if jawab == 'tidak' :\n",
    "        break\n",
    "print (\"total perulangan : \" + str(hitung))"
   ]
  },
  {
   "cell_type": "code",
   "execution_count": 22,
   "metadata": {},
   "outputs": [
    {
     "name": "stdout",
     "output_type": "stream",
     "text": [
      "[1, 4, 3, 8, 5, 12, 7]\n"
     ]
    }
   ],
   "source": [
    "deret_bilangan = [1, 4, 3, 8, 5, 12, 7]\n",
    "\n",
    "print(deret_bilangan)"
   ]
  },
  {
   "cell_type": "code",
   "execution_count": 21,
   "metadata": {},
   "outputs": [
    {
     "name": "stdout",
     "output_type": "stream",
     "text": [
      "Pilih Operasi.\n",
      "1.Jumlah\n",
      "2.Kurang\n",
      "3.Kali\n",
      "4.Bagi\n",
      "Masukkan pilihan(1/2/3/4): 1\n",
      "Masukkan bilangan pertama: 5\n",
      "Masukkan bilangan kedua: 5\n",
      "5 + 5 = 10\n"
     ]
    }
   ],
   "source": [
    "# fungsi penjumlahan\n",
    "def add(x, y):\n",
    "   return x + y\n",
    "# fungsi pengurangan\n",
    "def subtract(x, y):\n",
    "   return x - y\n",
    "# fungsi perkalian\n",
    "def multiply(x, y):\n",
    "   return x * y\n",
    "# fungsi pembagian\n",
    "def divide(x, y):\n",
    "   return x / y\n",
    "# menu operasi\n",
    "print(\"Pilih Operasi.\")\n",
    "print(\"1.Jumlah\")\n",
    "print(\"2.Kurang\")\n",
    "print(\"3.Kali\")\n",
    "print(\"4.Bagi\")\n",
    "# Meminta input dari user\n",
    "choice = input(\"Masukkan pilihan(1/2/3/4): \")\n",
    "num1 = int(input(\"Masukkan bilangan pertama: \"))\n",
    "num2 = int(input(\"Masukkan bilangan kedua: \"))\n",
    "if choice == '1':\n",
    "   print(num1,\"+\",num2,\"=\", add(num1,num2))\n",
    "elif choice == '2':\n",
    "   print(num1,\"-\",num2,\"=\", subtract(num1,num2))\n",
    "elif choice == '3':\n",
    "   print(num1,\"*\",num2,\"=\", multiply(num1,num2))\n",
    "elif choice == '4':\n",
    "   print(num1,\"/\",num2,\"=\", divide(num1,num2))\n",
    "else:\n",
    "   print(\"Input salah\")"
   ]
  },
  {
   "cell_type": "code",
   "execution_count": 37,
   "metadata": {},
   "outputs": [
    {
     "name": "stdout",
     "output_type": "stream",
     "text": [
      "list: [3, 15, 20, 30, 50]\n",
      "Nilai terkecil:  3\n"
     ]
    }
   ],
   "source": [
    "angka = [3, 15, 20, 30, 50]\n",
    "nilai=0\n",
    "nilai_terkecil = angka[0]\n",
    "for nilai in angka:\n",
    "    if nilai < nilai_terkecil:\n",
    "          nilai_terkecil = nilai\n",
    "print(\"list:\",angka)\n",
    "print(\"Nilai terkecil: \", nilai_terkecil)"
   ]
  },
  {
   "cell_type": "code",
   "execution_count": null,
   "metadata": {},
   "outputs": [],
   "source": []
  }
 ],
 "metadata": {
  "kernelspec": {
   "display_name": "Python 3",
   "language": "python",
   "name": "python3"
  },
  "language_info": {
   "codemirror_mode": {
    "name": "ipython",
    "version": 3
   },
   "file_extension": ".py",
   "mimetype": "text/x-python",
   "name": "python",
   "nbconvert_exporter": "python",
   "pygments_lexer": "ipython3",
   "version": "3.8.5"
  }
 },
 "nbformat": 4,
 "nbformat_minor": 4
}
