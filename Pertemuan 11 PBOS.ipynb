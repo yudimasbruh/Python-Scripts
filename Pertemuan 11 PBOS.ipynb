{
 "cells": [
  {
   "cell_type": "code",
   "execution_count": 1,
   "metadata": {},
   "outputs": [
    {
     "name": "stdout",
     "output_type": "stream",
     "text": [
      "list: [3, 15, 20, 30, 50]\n",
      "Nilai terbesar:  50\n"
     ]
    }
   ],
   "source": [
    "angka = [3, 15, 20, 30, 50]\n",
    "nilai=0\n",
    "nilai_terbesar = angka[0]\n",
    "for nilai in angka:\n",
    "    if nilai > nilai_terbesar:\n",
    "          nilai_terbesar = nilai\n",
    "print(\"list:\",angka)\n",
    "print(\"Nilai terbesar: \", nilai_terbesar)"
   ]
  },
  {
   "cell_type": "code",
   "execution_count": 5,
   "metadata": {},
   "outputs": [
    {
     "name": "stdout",
     "output_type": "stream",
     "text": [
      "30\n"
     ]
    }
   ],
   "source": [
    "nilai = [2 , 4 , 6 , 8 , 10]\n",
    "jumlah = sum(nilai)\n",
    "\n",
    "print(jumlah)"
   ]
  },
  {
   "cell_type": "code",
   "execution_count": 7,
   "metadata": {},
   "outputs": [
    {
     "name": "stdout",
     "output_type": "stream",
     "text": [
      "{'Pemrograman', 'dengan', 'python', 'Belajar'}\n",
      "{200, 100, 400, 300}\n",
      "{'Python', True, 6.99, 200}\n"
     ]
    }
   ],
   "source": [
    "foo = {\"Belajar\", \"Pemrograman\", \"dengan\", \"python\"}\n",
    "bar = {100, 200, 300, 400}\n",
    "baz = {\"Python\", 200, 6.99, True}\n",
    "\n",
    "print(foo)\n",
    "print(bar)\n",
    "print(baz)"
   ]
  },
  {
   "cell_type": "code",
   "execution_count": null,
   "metadata": {},
   "outputs": [],
   "source": []
  }
 ],
 "metadata": {
  "kernelspec": {
   "display_name": "Python 3",
   "language": "python",
   "name": "python3"
  },
  "language_info": {
   "codemirror_mode": {
    "name": "ipython",
    "version": 3
   },
   "file_extension": ".py",
   "mimetype": "text/x-python",
   "name": "python",
   "nbconvert_exporter": "python",
   "pygments_lexer": "ipython3",
   "version": "3.8.5"
  }
 },
 "nbformat": 4,
 "nbformat_minor": 4
}
