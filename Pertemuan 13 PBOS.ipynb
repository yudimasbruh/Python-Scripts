{
 "cells": [
  {
   "cell_type": "code",
   "execution_count": 18,
   "metadata": {},
   "outputs": [
    {
     "name": "stdout",
     "output_type": "stream",
     "text": [
      "Hello World\n",
      "Selamat Datang di dunia Python\n"
     ]
    }
   ],
   "source": [
    "class MyClass:\n",
    "    hello = \"Hello World\"\n",
    "    \n",
    "    def function(self):\n",
    "        print(\"Pesan ini dari dalam Class\")\n",
    "        \n",
    "myObject1 = MyClass()\n",
    "myObject2 = MyClass()\n",
    "\n",
    "#mengakses object variabel\n",
    "myObject2.hello = \"Selamat Datang di dunia Python\"\n",
    "print(myObject1.hello)\n",
    "print(myObject2.hello)"
   ]
  },
  {
   "cell_type": "code",
   "execution_count": 19,
   "metadata": {},
   "outputs": [
    {
     "name": "stdout",
     "output_type": "stream",
     "text": [
      "Pesan ini dari dalam Class\n"
     ]
    }
   ],
   "source": [
    "class MyClass:\n",
    "    hello = \"Hello World\"\n",
    "    \n",
    "    def function(self):\n",
    "        print(\"Pesan ini dari dalam Class\")\n",
    "\n",
    "myObject = MyClass()\n",
    "myObject.function()"
   ]
  },
  {
   "cell_type": "code",
   "execution_count": 20,
   "metadata": {},
   "outputs": [
    {
     "name": "stdout",
     "output_type": "stream",
     "text": [
      "Avanza merupakan sebuah mobil/motor Merah dengan nilai 180.00 juta\n",
      "Honda Blade merupakan sebuah mobil/motor Orange dengan nilai 18.00 juta\n"
     ]
    }
   ],
   "source": [
    "class Kendaraan:\n",
    "    nama = \"\"\n",
    "    jenis = \"mobil/motor\"\n",
    "    warna = \"\"\n",
    "    nilai = 100.00\n",
    "    \n",
    "    def deskripsi(self):\n",
    "        desk_str = \"%s merupakan sebuah %s %s dengan nilai %.2f juta\" % (self.nama, self.jenis, self.warna, self.nilai)\n",
    "        return desk_str\n",
    "    \n",
    "Mobil = Kendaraan()\n",
    "Mobil.nama = \"Avanza\"\n",
    "Mobil.warna = \"Merah\"\n",
    "Mobil.nilai = 180\n",
    "\n",
    "Motor = Kendaraan()\n",
    "Motor.nama = \"Honda Blade\"\n",
    "Motor.warna = \"Orange\"\n",
    "Motor.nilai = 18\n",
    "\n",
    "print(Mobil.deskripsi())\n",
    "print(Motor.deskripsi())"
   ]
  },
  {
   "cell_type": "code",
   "execution_count": 21,
   "metadata": {},
   "outputs": [
    {
     "name": "stdout",
     "output_type": "stream",
     "text": [
      "Mobil Avanza saya sedang bergerak maju.\n",
      "Mobil Avanza saya sedang berhenti.\n"
     ]
    }
   ],
   "source": [
    "class Mobil:\n",
    "    def __init__(self,nama):\n",
    "        self.nama = nama;\n",
    "        \n",
    "    def maju(self):\n",
    "        print(\"Mobil \"+ self.nama +\" saya sedang bergerak maju.\")\n",
    "        \n",
    "    def berhenti(self):\n",
    "        print(\"Mobil \"+ self.nama +\" saya sedang berhenti.\")\n",
    "        \n",
    "def main():\n",
    "    avanza = Mobil('Avanza')\n",
    "    avanza.maju()\n",
    "    avanza.berhenti()\n",
    "    \n",
    "main()"
   ]
  },
  {
   "cell_type": "code",
   "execution_count": 22,
   "metadata": {},
   "outputs": [
    {
     "name": "stdout",
     "output_type": "stream",
     "text": [
      "Nama Anda : Yudi Muttaqin\n",
      "Alamat : Jl. Yusuf A. Karim\n",
      "\n",
      "\n",
      " Tutor-All Programming\n",
      "Nama :  Yudi Muttaqin\n",
      "Alamat :  Jl. Yusuf A. Karim\n"
     ]
    }
   ],
   "source": [
    "#Membuat Class\n",
    "class latihan_class():\n",
    "    #Deklarasi Variabel\n",
    "    var_nama = \"\"\n",
    "    var_alamat = \"\"\n",
    "    var_judul = \"\"\n",
    "    \n",
    "    #Membuat Constructor\n",
    "    def __init__(self, judul):\n",
    "        self.var_judul = judul\n",
    "        \n",
    "    #fungsi untuk input data variabel\n",
    "    def get_nama(self, nama):\n",
    "        self.var_nama = nama\n",
    "        \n",
    "    #fungsi input alamat\n",
    "    def get_alamat(self, alamat):\n",
    "        self.var_alamat = alamat\n",
    "        \n",
    "    #fungsi menampilkan output\n",
    "    def get_output(self):\n",
    "        print(\"\\n\\n\",self.var_judul)\n",
    "        print(\"Nama : \",self.var_nama)\n",
    "        print(\"Alamat : \",self.var_alamat)\n",
    "        \n",
    "#Import latihan_class\n",
    "\n",
    "obj = latihan_class(\"Tutor-All Programming\")\n",
    "var_nama = input(\"Nama Anda : \")\n",
    "var_alamat = input(\"Alamat : \")\n",
    "obj.get_nama(var_nama)\n",
    "obj.get_alamat(var_alamat)\n",
    "obj.get_output()\n",
    "        "
   ]
  },
  {
   "cell_type": "code",
   "execution_count": null,
   "metadata": {},
   "outputs": [],
   "source": []
  }
 ],
 "metadata": {
  "kernelspec": {
   "display_name": "Python 3",
   "language": "python",
   "name": "python3"
  },
  "language_info": {
   "codemirror_mode": {
    "name": "ipython",
    "version": 3
   },
   "file_extension": ".py",
   "mimetype": "text/x-python",
   "name": "python",
   "nbconvert_exporter": "python",
   "pygments_lexer": "ipython3",
   "version": "3.8.5"
  }
 },
 "nbformat": 4,
 "nbformat_minor": 4
}
