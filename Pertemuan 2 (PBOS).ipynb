{
 "cells": [
  {
   "cell_type": "code",
   "execution_count": 1,
   "metadata": {},
   "outputs": [
    {
     "name": "stdout",
     "output_type": "stream",
     "text": [
      "Yudi\n"
     ]
    }
   ],
   "source": [
    "name = \"Yudi\"\n",
    "print (name)"
   ]
  },
  {
   "cell_type": "code",
   "execution_count": null,
   "metadata": {},
   "outputs": [],
   "source": [
    "# menghapus variabel menggunakan fungsi del()\n",
    "# del (name)\n",
    "# print (name)"
   ]
  },
  {
   "cell_type": "code",
   "execution_count": 3,
   "metadata": {},
   "outputs": [
    {
     "name": "stdout",
     "output_type": "stream",
     "text": [
      "Yudi\n"
     ]
    },
    {
     "data": {
      "text/plain": [
       "str"
      ]
     },
     "execution_count": 3,
     "metadata": {},
     "output_type": "execute_result"
    }
   ],
   "source": [
    "name = \"Yudi\"\n",
    "print (name)\n",
    "type (name)"
   ]
  },
  {
   "cell_type": "code",
   "execution_count": 4,
   "metadata": {},
   "outputs": [
    {
     "name": "stdout",
     "output_type": "stream",
     "text": [
      "Yudi\n",
      "14 Juni 2001\n",
      "Pontianak\n"
     ]
    }
   ],
   "source": [
    "name = \"Yudi\"\n",
    "tanggal_lahir = \"14 Juni 2001\"\n",
    "alamat = \"\"\"Pontianak\"\"\"\n",
    "\n",
    "print (name)\n",
    "print (tanggal_lahir)\n",
    "print (alamat)"
   ]
  },
  {
   "cell_type": "code",
   "execution_count": 6,
   "metadata": {},
   "outputs": [
    {
     "name": "stdout",
     "output_type": "stream",
     "text": [
      "True\n"
     ]
    }
   ],
   "source": [
    "name = True\n",
    "\n",
    "print(name)"
   ]
  },
  {
   "cell_type": "code",
   "execution_count": 7,
   "metadata": {},
   "outputs": [
    {
     "data": {
      "text/plain": [
       "float"
      ]
     },
     "execution_count": 7,
     "metadata": {},
     "output_type": "execute_result"
    }
   ],
   "source": [
    "sekolah = 12.5\n",
    "type(sekolah)"
   ]
  },
  {
   "cell_type": "code",
   "execution_count": 8,
   "metadata": {},
   "outputs": [
    {
     "name": "stdout",
     "output_type": "stream",
     "text": [
      "siapa nama kamu: Yudi Muttaqin\n",
      "berapa umur kamu: 19\n",
      "Hello Yudi Muttaqin umur kamu  adalah 19 tahun\n"
     ]
    }
   ],
   "source": [
    "# Mengambil input \n",
    "nama = input (\"siapa nama kamu: \")\n",
    "umur = input (\"berapa umur kamu: \")\n",
    "# Menampilkan output\n",
    "print (\"Hello\",nama,\"umur kamu  adalah\",umur,\"tahun\")"
   ]
  },
  {
   "cell_type": "code",
   "execution_count": 9,
   "metadata": {},
   "outputs": [
    {
     "data": {
      "text/plain": [
       "float"
      ]
     },
     "execution_count": 9,
     "metadata": {},
     "output_type": "execute_result"
    }
   ],
   "source": [
    "Merk =\"Acer Predator\"\n",
    "jumlah = 2\n",
    "ketelitian = 80.25\n",
    "type(ketelitian)"
   ]
  },
  {
   "cell_type": "markdown",
   "metadata": {},
   "source": []
  },
  {
   "cell_type": "code",
   "execution_count": 11,
   "metadata": {},
   "outputs": [
    {
     "name": "stdout",
     "output_type": "stream",
     "text": [
      "Nama :  yudi\n",
      "Alamat :  Pontianak\n",
      "Umur :  19\n",
      "Tinggi :  169\n",
      "Status : Belum menikah\n"
     ]
    }
   ],
   "source": [
    "# program biodata penduduk \n",
    "# membuat variabel beserta isinya(nilainya)\n",
    "nama = \"yudi\"\n",
    "alamat = 'Pontianak'\n",
    "umur = 19\n",
    "tinggi = 169\n",
    "menikah = False\n",
    "#mencetak isi variabel\n",
    "print(\"Nama : \",nama)\n",
    "print(\"Alamat : \",alamat)\n",
    "print(\"Umur : \",umur)\n",
    "print(\"Tinggi : \",tinggi)\n",
    "if(menikah):\n",
    "    print(\"Status : Menikah\")\n",
    "else:\n",
    "    print(\"Status : Belum menikah\")\n"
   ]
  },
  {
   "cell_type": "code",
   "execution_count": 12,
   "metadata": {},
   "outputs": [
    {
     "name": "stdout",
     "output_type": "stream",
     "text": [
      "Hello world!\n",
      "Mari Belajar Python\n"
     ]
    }
   ],
   "source": [
    "print (\"Hello world!\")\n",
    "print (\"Mari Belajar Python\")"
   ]
  },
  {
   "cell_type": "code",
   "execution_count": 13,
   "metadata": {},
   "outputs": [
    {
     "name": "stdout",
     "output_type": "stream",
     "text": [
      "Hello World!\n",
      "Mari Belajar Python\n"
     ]
    }
   ],
   "source": [
    "nama_variabel = \"Belajar Python\"\n",
    "\n",
    "print(\"Hello World!\")\n",
    "print(\"Mari\",nama_variabel)\n"
   ]
  },
  {
   "cell_type": "code",
   "execution_count": 15,
   "metadata": {},
   "outputs": [
    {
     "name": "stdout",
     "output_type": "stream",
     "text": [
      "Belajar Python\n"
     ]
    }
   ],
   "source": [
    "bhs = \"Python\"\n",
    "print(\"Belajar \" + bhs)"
   ]
  },
  {
   "cell_type": "code",
   "execution_count": 16,
   "metadata": {},
   "outputs": [
    {
     "name": "stdout",
     "output_type": "stream",
     "text": [
      "Nama: Yudi \n",
      "Hello Yudi  apa kabar ?\n"
     ]
    }
   ],
   "source": [
    "nama = input(\"Nama: \")\n",
    "print(\"Hello {} apa kabar ?\".format(nama))"
   ]
  },
  {
   "cell_type": "markdown",
   "metadata": {},
   "source": []
  },
  {
   "cell_type": "code",
   "execution_count": 17,
   "metadata": {},
   "outputs": [
    {
     "name": "stdout",
     "output_type": "stream",
     "text": [
      "Nama Kamu :Yudi\n",
      "Nama Dia :Nadia\n",
      "Yudi dengan Nadia sepertinya pasangan yang serasi :)\n"
     ]
    }
   ],
   "source": [
    "nama_mu = input(\"Nama Kamu :\")\n",
    "nama_dia = input(\"Nama Dia :\")\n",
    "\n",
    "print(\"{} dengan {} sepertinya pasangan yang serasi :)\".format(nama_mu,nama_dia))"
   ]
  },
  {
   "cell_type": "code",
   "execution_count": null,
   "metadata": {},
   "outputs": [],
   "source": []
  }
 ],
 "metadata": {
  "kernelspec": {
   "display_name": "Python 3",
   "language": "python",
   "name": "python3"
  },
  "language_info": {
   "codemirror_mode": {
    "name": "ipython",
    "version": 3
   },
   "file_extension": ".py",
   "mimetype": "text/x-python",
   "name": "python",
   "nbconvert_exporter": "python",
   "pygments_lexer": "ipython3",
   "version": "3.8.5"
  }
 },
 "nbformat": 4,
 "nbformat_minor": 4
}
