{
 "cells": [
  {
   "cell_type": "code",
   "execution_count": 1,
   "metadata": {},
   "outputs": [
    {
     "name": "stdout",
     "output_type": "stream",
     "text": [
      "\n",
      "Masukan Panjang: 20\n",
      "Masukan Lebar: 15\n",
      "\n",
      "Luas Persegi Panjang \t\t: 300.0\n",
      "Keliling Persegi Panjang\t: 70.0\n"
     ]
    }
   ],
   "source": [
    "panjang = float(input(\"\\nMasukan Panjang: \"))\n",
    "lebar = float(input(\"Masukan Lebar: \"))\n",
    "\n",
    "luas = panjang*lebar\n",
    "keliling = 2 * (panjang+lebar)\n",
    "\n",
    "print(\"\\nLuas Persegi Panjang \\t\\t:\",luas)\n",
    "print(\"Keliling Persegi Panjang\\t:\",keliling)"
   ]
  },
  {
   "cell_type": "code",
   "execution_count": 3,
   "metadata": {},
   "outputs": [
    {
     "name": "stdout",
     "output_type": "stream",
     "text": [
      "Masukan Jari-jari : 13\n",
      "Luas Lingkaran \t\t=  530.929158456675\n",
      "Keliling Lingkaran\t=  81.68140899333463\n"
     ]
    }
   ],
   "source": [
    "import math\n",
    "r = float(input(\"Masukan Jari-jari : \"))\n",
    "\n",
    "luas = math.pi*(r*r)\n",
    "keliling = 2*math.pi*r\n",
    "\n",
    "print (\"Luas Lingkaran \\t\\t= \",luas)\n",
    "print (\"Keliling Lingkaran\\t= \",keliling)"
   ]
  },
  {
   "cell_type": "code",
   "execution_count": 11,
   "metadata": {},
   "outputs": [
    {
     "name": "stdout",
     "output_type": "stream",
     "text": [
      "Masukkan massa benda = 15\n",
      "Energi=  1350000000000000000\n"
     ]
    }
   ],
   "source": [
    "m=int(input(\"Masukkan massa benda = \"))\n",
    "C=3*10**8\n",
    "E=m*C**2\n",
    "print(\"Energi= \",E)"
   ]
  },
  {
   "cell_type": "code",
   "execution_count": 12,
   "metadata": {},
   "outputs": [
    {
     "name": "stdout",
     "output_type": "stream",
     "text": [
      "masukkan suhu (Dalam Celcius)= 12\n",
      "Suhu Fahrenheit  53.6 Suhu Reamur  9.600000000000001\n"
     ]
    }
   ],
   "source": [
    "C= float(input(\"masukkan suhu (Dalam Celcius)= \")) \n",
    "F=((9/5)*C)+32 \n",
    "R=(4/5)*C \n",
    "print(\"Suhu Fahrenheit \",F,\"Suhu Reamur \",R)"
   ]
  },
  {
   "cell_type": "code",
   "execution_count": 13,
   "metadata": {},
   "outputs": [
    {
     "name": "stdout",
     "output_type": "stream",
     "text": [
      "masukan jumlah hari : 30\n",
      "=========================================\n",
      "konversi dari hari yang di inputkan adalah\n",
      "hari :  30\n",
      "jam :  720\n",
      "menit :  43200\n",
      "detik :  2592000\n",
      "=========================================\n"
     ]
    }
   ],
   "source": [
    "hari = int(input (\"masukan jumlah hari : \"))\n",
    "jam = 24*hari\n",
    "menit = jam *60\n",
    "detik = menit * 60\n",
    "print (\"=========================================\")\n",
    "print (\"konversi dari hari yang di inputkan adalah\")\n",
    "print (\"hari : \",hari) \n",
    "print (\"jam : \",jam)\n",
    "print (\"menit : \",menit) \n",
    "print (\"detik : \",detik) \n",
    "print (\"=========================================\")"
   ]
  },
  {
   "cell_type": "code",
   "execution_count": null,
   "metadata": {},
   "outputs": [],
   "source": []
  }
 ],
 "metadata": {
  "kernelspec": {
   "display_name": "Python 3",
   "language": "python",
   "name": "python3"
  },
  "language_info": {
   "codemirror_mode": {
    "name": "ipython",
    "version": 3
   },
   "file_extension": ".py",
   "mimetype": "text/x-python",
   "name": "python",
   "nbconvert_exporter": "python",
   "pygments_lexer": "ipython3",
   "version": "3.8.5"
  }
 },
 "nbformat": 4,
 "nbformat_minor": 4
}
