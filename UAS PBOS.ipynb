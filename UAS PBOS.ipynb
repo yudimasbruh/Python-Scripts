{
 "cells": [
  {
   "cell_type": "code",
   "execution_count": 21,
   "metadata": {},
   "outputs": [
    {
     "name": "stdout",
     "output_type": "stream",
     "text": [
      "jumlah penjualan barang 13\n"
     ]
    },
    {
     "ename": "NameError",
     "evalue": "name 'komisi' is not defined",
     "output_type": "error",
     "traceback": [
      "\u001b[1;31m---------------------------------------------------------------------------\u001b[0m",
      "\u001b[1;31mNameError\u001b[0m                                 Traceback (most recent call last)",
      "\u001b[1;32m<ipython-input-21-fdf23d0fcec4>\u001b[0m in \u001b[0;36m<module>\u001b[1;34m\u001b[0m\n\u001b[0;32m     12\u001b[0m \u001b[1;33m\u001b[0m\u001b[0m\n\u001b[0;32m     13\u001b[0m     \u001b[0mkomisi\u001b[0m \u001b[1;33m=\u001b[0m\u001b[0msum_barang\u001b[0m \u001b[1;33m*\u001b[0m \u001b[1;36m0.15\u001b[0m \u001b[1;33m+\u001b[0m \u001b[1;36m30000\u001b[0m\u001b[1;33m\u001b[0m\u001b[1;33m\u001b[0m\u001b[0m\n\u001b[1;32m---> 14\u001b[1;33m \u001b[0mprint\u001b[0m\u001b[1;33m(\u001b[0m\u001b[1;34m\"total pembayaran yang anda terima : Rp%s\"\u001b[0m \u001b[1;33m%\u001b[0m \u001b[0mkomisi\u001b[0m\u001b[1;33m)\u001b[0m\u001b[1;33m\u001b[0m\u001b[1;33m\u001b[0m\u001b[0m\n\u001b[0m",
      "\u001b[1;31mNameError\u001b[0m: name 'komisi' is not defined"
     ]
    }
   ],
   "source": [
    "jumah_juaal = int(input(\"jumlah penjualan barang \"))\n",
    "\n",
    "if int(jumah_juaal ) == 25000:\n",
    "    \n",
    "    komisi =sum_barang * 0.1 +10000\n",
    "elif int(jumah_juaal) > 25000:\n",
    "    jasa = 20000\n",
    "    komisi =sum_barang * 0.15 + 20000\n",
    "\n",
    "    \n",
    "elif int(jumah_juaal) > 77500:\n",
    "   \n",
    "    komisi =sum_barang * 0.15 + 30000\n",
    "print(\"total pembayaran yang anda terima : Rp%s\" % komisi)"
   ]
  },
  {
   "cell_type": "code",
   "execution_count": 13,
   "metadata": {},
   "outputs": [
    {
     "name": "stdout",
     "output_type": "stream",
     "text": [
      "Masukkan jari jari bola :6\n",
      "Volume bola : 288.0\n",
      "Masukkan tinggi tabung :12\n",
      "Masukkan jari jari tabung :4\n",
      "Volume tabung :  602.88\n",
      "Masukan Tinggi Limas    : 20\n",
      "Masukan Panjang sisi Alas : 15\n",
      "Volume limas :  1500.0\n"
     ]
    }
   ],
   "source": [
    "#Bola\n",
    "def volumeBola():\n",
    "    jari = float(input(\"Masukkan jari jari bola :\"))\n",
    "    volume = 4/3*jari*jari*jari\n",
    "    print(\"Volume bola :\", volume)\n",
    "volumeBola()\n",
    "\n",
    "#Tabung\n",
    "def volumeTabung():\n",
    "    tinggi = float(input(\"Masukkan tinggi tabung :\"))\n",
    "    jari = float(input(\"Masukkan jari jari tabung :\"))\n",
    "    volume = 3.14*jari*jari*tinggi\n",
    "    print(\"Volume tabung : \", volume)\n",
    "volumeTabung()\n",
    "\n",
    "#Limas segi empat\n",
    "def volumeLimas():\n",
    "    tinggi= float(input(\"Masukan Tinggi Limas    : \"))\n",
    "    sisi= float(input(\"Masukan Panjang sisi Alas : \"))\n",
    "    volume = (1/3) * (sisi*sisi) * tinggi\n",
    "    print(\"Volume limas : \",volume)\n",
    "volumeLimas()"
   ]
  },
  {
   "cell_type": "code",
   "execution_count": 19,
   "metadata": {},
   "outputs": [
    {
     "name": "stdout",
     "output_type": "stream",
     "text": [
      "Lina\n",
      "zeus 50\n"
     ]
    }
   ],
   "source": [
    "class Hero:\n",
    "    def __init__(self,name,health):\n",
    "        self.name = name\n",
    "        self.health = health\n",
    "        \n",
    "class Hero_Intelligence(Hero):\n",
    "    pass\n",
    "\n",
    "lina = Hero(\"Lina\",100)\n",
    "zeus = Hero_Intelligence(\"zeus\",50)\n",
    "\n",
    "print(lina.name)\n",
    "print(zeus.name,zeus.health)"
   ]
  },
  {
   "cell_type": "code",
   "execution_count": null,
   "metadata": {},
   "outputs": [],
   "source": []
  }
 ],
 "metadata": {
  "kernelspec": {
   "display_name": "Python 3",
   "language": "python",
   "name": "python3"
  },
  "language_info": {
   "codemirror_mode": {
    "name": "ipython",
    "version": 3
   },
   "file_extension": ".py",
   "mimetype": "text/x-python",
   "name": "python",
   "nbconvert_exporter": "python",
   "pygments_lexer": "ipython3",
   "version": "3.8.5"
  }
 },
 "nbformat": 4,
 "nbformat_minor": 4
}
