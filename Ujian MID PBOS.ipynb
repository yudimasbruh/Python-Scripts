{
 "cells": [
  {
   "cell_type": "code",
   "execution_count": 5,
   "metadata": {},
   "outputs": [
    {
     "name": "stdout",
     "output_type": "stream",
     "text": [
      "masukkan harga masker: 8500\n",
      "masukkan jumlah masker yang dibeli: 45\n",
      "Total Harga=  Rp. 382500.0\n"
     ]
    }
   ],
   "source": [
    "def total(harga,jumlah) :\n",
    "    return harga*jumlah\n",
    "harga = int(input(\"masukkan harga masker: \"))\n",
    "jumlah = int(input(\"masukkan jumlah masker yang dibeli: \"))\n",
    "Total=total(harga,jumlah)\n",
    "if Total > 100000:\n",
    "    Total=Total-0.0*Total\n",
    "print(\"Total Harga= \", \"Rp.\",Total)"
   ]
  },
  {
   "cell_type": "code",
   "execution_count": 6,
   "metadata": {},
   "outputs": [
    {
     "name": "stdout",
     "output_type": "stream",
     "text": [
      "PROGRAM MENENTUKAN NILAI RATA-RATA\n",
      "\n",
      "Banyaknya Data: 5\n",
      "\n",
      "Masukkan data ke-1: 1\n",
      "Masukkan data ke-2: 2\n",
      "Masukkan data ke-3: 3\n",
      "Masukkan data ke-4: 4\n",
      "Masukkan data ke-5: 5\n",
      "\n",
      "Rata-rata  = 3.00\n"
     ]
    }
   ],
   "source": [
    "print(\"PROGRAM MENENTUKAN NILAI RATA-RATA\")\n",
    "\n",
    "n = int(input(\"\\nBanyaknya Data: \"))\n",
    "\n",
    "print() \n",
    "data = []\n",
    "jum = 0\n",
    "\n",
    "for i in range(0, n):\n",
    "    temp = int(input(\"Masukkan data ke-%d: \" % (i+1)))\n",
    "    data.append(temp)\n",
    "    jum += data[i]\n",
    "    rata2 = jum / n\n",
    "\n",
    "print(\"\\nRata-rata  = %0.2f\" % rata2)"
   ]
  },
  {
   "cell_type": "code",
   "execution_count": 7,
   "metadata": {},
   "outputs": [
    {
     "name": "stdout",
     "output_type": "stream",
     "text": [
      "MASUKKAN JUMLAH JAM KERJA PERMINGGU : 55\n",
      "TOTAL GAJI : 275000\n"
     ]
    }
   ],
   "source": [
    "jam_kerja = int(input(\"MASUKKAN JUMLAH JAM KERJA PERMINGGU : \"))\n",
    "\n",
    "if (jam_kerja>60):\n",
    "    gaji = 300000\n",
    "    lembur = (jam_kerja-60)*7500\n",
    "    total_gaji = gaji+lembur\n",
    "elif (jam_kerja<50):\n",
    "    gaji = jam_kerja*5000\n",
    "    denda = (50-jam_kerja)*12500\n",
    "    total_gaji = gaji-denda\n",
    "    \n",
    "else:\n",
    "    total_gaji = jam_kerja*5000\n",
    "print (\"TOTAL GAJI :\",total_gaji )"
   ]
  },
  {
   "cell_type": "code",
   "execution_count": 8,
   "metadata": {},
   "outputs": [
    {
     "name": "stdout",
     "output_type": "stream",
     "text": [
      "Pilih Operasi.\n",
      "1.Jumlah\n",
      "2.Kurang\n",
      "3.Kali\n",
      "4.Bagi\n",
      "Masukkan pilihan(1/2/3/4): 3\n",
      "Masukkan bilangan pertama: 5\n",
      "Masukkan bilangan kedua: 5\n",
      "5 * 5 = 25\n"
     ]
    }
   ],
   "source": [
    "''' Program kalkulator untuk menjumlah, mengurang, mengali, dan membagi bilangan '''\n",
    "\n",
    "# operator penjumlahan\n",
    "def add(x, y):\n",
    "   return x + y\n",
    "\n",
    "# operator pengurangan\n",
    "def subtract(x, y):\n",
    "   return x - y\n",
    "\n",
    "# operator perkalian\n",
    "def multiply(x, y):\n",
    "   return x * y\n",
    "\n",
    "# operator pembagian\n",
    "def divide(x, y):\n",
    "   return x / y\n",
    "\n",
    "# menu operasi\n",
    "print(\"Pilih Operasi.\")\n",
    "print(\"1.Jumlah\")\n",
    "print(\"2.Kurang\")\n",
    "print(\"3.Kali\")\n",
    "print(\"4.Bagi\")\n",
    "\n",
    "# Meminta input dari user\n",
    "choice = input(\"Masukkan pilihan(1/2/3/4): \")\n",
    "\n",
    "num1 = int(input(\"Masukkan bilangan pertama: \"))\n",
    "num2 = int(input(\"Masukkan bilangan kedua: \"))\n",
    "\n",
    "if choice == '1':\n",
    "   print(num1,\"+\",num2,\"=\", add(num1,num2))\n",
    "\n",
    "elif choice == '2':\n",
    "   print(num1,\"-\",num2,\"=\", subtract(num1,num2))\n",
    "\n",
    "elif choice == '3':\n",
    "   print(num1,\"*\",num2,\"=\", multiply(num1,num2))\n",
    "\n",
    "elif choice == '4':\n",
    "   print(num1,\"/\",num2,\"=\", divide(num1,num2))\n",
    "else:\n",
    "   print(\"Input salah\")"
   ]
  }
 ],
 "metadata": {
  "kernelspec": {
   "display_name": "Python 3",
   "language": "python",
   "name": "python3"
  },
  "language_info": {
   "codemirror_mode": {
    "name": "ipython",
    "version": 3
   },
   "file_extension": ".py",
   "mimetype": "text/x-python",
   "name": "python",
   "nbconvert_exporter": "python",
   "pygments_lexer": "ipython3",
   "version": "3.8.5"
  }
 },
 "nbformat": 4,
 "nbformat_minor": 4
}
